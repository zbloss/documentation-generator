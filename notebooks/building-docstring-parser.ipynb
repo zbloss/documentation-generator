{
 "cells": [
  {
   "cell_type": "markdown",
   "metadata": {},
   "source": [
    "# Docstring Extractor\n",
    "\n",
    "I need to build a function that, when given a python file, \n",
    "returns all pairs of docstrings and functions they came from."
   ]
  },
  {
   "cell_type": "code",
   "execution_count": 191,
   "metadata": {},
   "outputs": [],
   "source": [
    "import re\n",
    "from glob import glob\n",
    "from IPython.display import HTML"
   ]
  },
  {
   "cell_type": "code",
   "execution_count": 16,
   "metadata": {},
   "outputs": [
    {
     "name": "stdout",
     "output_type": "stream",
     "text": [
      "Python Files: 12169\n"
     ]
    }
   ],
   "source": [
    "py_files = glob('D:/data/documentation-generator/py_files/*.py')\n",
    "print(f'Python Files: {len(py_files)}')"
   ]
  },
  {
   "cell_type": "code",
   "execution_count": 17,
   "metadata": {},
   "outputs": [
    {
     "name": "stdout",
     "output_type": "stream",
     "text": [
      "\"\"\"\n",
      "Django's standard crypto functions and utilities.\n",
      "\"\"\"\n",
      "import hashlib\n",
      "import hmac\n",
      "import random\n",
      "import time\n",
      "\n",
      "from django.conf import settings\n",
      "from django.utils.encoding import force_bytes\n",
      "\n",
      "# Use the system PRNG if possible\n",
      "try:\n",
      "    random = random.SystemRandom()\n",
      "    using_sysrandom = True\n",
      "except NotImplementedError:\n",
      "    import warnings\n",
      "    warnings.warn('A secure pseudo-random number generator is not available '\n",
      "                  'on your system. Falling back to Mersenne Twister.')\n",
      "    using_sysrandom = False\n",
      "\n",
      "\n",
      "def salted_hmac(key_salt, value, secret=None):\n",
      "    \"\"\"\n",
      "    Return the HMAC-SHA1 of 'value', using a key generated from key_salt and a\n",
      "    secret (which defaults to settings.SECRET_KEY).\n",
      "\n",
      "    A different key_salt should be passed in for every application of HMAC.\n",
      "    \"\"\"\n",
      "    if secret is None:\n",
      "        secret = settings.SECRET_KEY\n",
      "\n",
      "    key_salt = force_bytes(key_salt)\n",
      "    secret = force_bytes(secret)\n",
      "\n",
      "    # We need to generate a derived key from our base key.  We can do this by\n",
      "    # passing the key_salt and our base key through a pseudo-random function and\n",
      "    # SHA1 works nicely.\n",
      "    key = hashlib.sha1(key_salt + secret).digest()\n",
      "\n",
      "    # If len(key_salt + secret) > sha_constructor().block_size, the above\n",
      "    # line is redundant and could be replaced by key = key_salt + secret, since\n",
      "    # the hmac module does the same thing for keys longer than the block size.\n",
      "    # However, we need to ensure that we *always* do this.\n",
      "    return hmac.new(key, msg=force_bytes(value), digestmod=hashlib.sha1)\n",
      "\n",
      "\n",
      "def get_random_string(length=12,\n",
      "                      allowed_chars='abcdefghijklmnopqrstuvwxyz'\n",
      "                                    'ABCDEFGHIJKLMNOPQRSTUVWXYZ0123456789'):\n",
      "    \"\"\"\n",
      "    Return a securely generated random string.\n",
      "\n",
      "    The default length of 12 with the a-z, A-Z, 0-9 character set returns\n",
      "    a 71-bit value. log_2((26+26+10)^12) =~ 71 bits\n",
      "    \"\"\"\n",
      "    if not using_sysrandom:\n",
      "        # This is ugly, and a hack, but it makes things better than\n",
      "        # the alternative of predictability. This re-seeds the PRNG\n",
      "        # using a value that is hard for an attacker to predict, every\n",
      "        # time a random string is required. This may change the\n",
      "        # properties of the chosen random sequence slightly, but this\n",
      "        # is better than absolute predictability.\n",
      "        random.seed(\n",
      "            hashlib.sha256(\n",
      "                ('%s%s%s' % (random.getstate(), time.time(), settings.SECRET_KEY)).encode()\n",
      "            ).digest()\n",
      "        )\n",
      "    return ''.join(random.choice(allowed_chars) for i in range(length))\n",
      "\n",
      "\n",
      "def constant_time_compare(val1, val2):\n",
      "    \"\"\"Return True if the two strings are equal, False otherwise.\"\"\"\n",
      "    return hmac.compare_digest(force_bytes(val1), force_bytes(val2))\n",
      "\n",
      "\n",
      "def pbkdf2(password, salt, iterations, dklen=0, digest=None):\n",
      "    \"\"\"Return the hash of password using pbkdf2.\"\"\"\n",
      "    if digest is None:\n",
      "        digest = hashlib.sha256\n",
      "    dklen = dklen or None\n",
      "    password = force_bytes(password)\n",
      "    salt = force_bytes(salt)\n",
      "    return hashlib.pbkdf2_hmac(digest().name, password, salt, iterations, dklen)\n",
      "\n"
     ]
    }
   ],
   "source": [
    "py_file = 'D:/data/documentation-generator/py_files/Crypto.py'\n",
    "\n",
    "with open(py_file, 'r') as file:\n",
    "    data = file.read()\n",
    "    file.close()\n",
    "    \n",
    "print(data)"
   ]
  },
  {
   "cell_type": "markdown",
   "metadata": {},
   "source": [
    "Using `ast` to parse the python file. This is handy for extracting the function names, as well as the docstrings .\n",
    "\n",
    "Once we extract the function names, we can use regex-like code to extract the function definition"
   ]
  },
  {
   "cell_type": "code",
   "execution_count": 171,
   "metadata": {},
   "outputs": [],
   "source": [
    "parsed_data = ast.parse(data)"
   ]
  },
  {
   "cell_type": "code",
   "execution_count": 172,
   "metadata": {},
   "outputs": [],
   "source": [
    "function_definitions = [node for node in parsed_data.body if isinstance(node, ast.FunctionDef)]"
   ]
  },
  {
   "cell_type": "code",
   "execution_count": 178,
   "metadata": {},
   "outputs": [],
   "source": [
    "# function names\n",
    "function_names = [f.name for f in function_definitions]\n",
    "function_docstrings = [ast.get_docstring(f) for f in function_definitions]"
   ]
  },
  {
   "cell_type": "code",
   "execution_count": 184,
   "metadata": {},
   "outputs": [
    {
     "name": "stdout",
     "output_type": "stream",
     "text": [
      "0 salted_hmac Return the HMAC-SHA1 of 'value', using a key generated from key_salt and a\n",
      "secret (which defaults to settings.SECRET_KEY).\n",
      "\n",
      "A different key_salt should be passed in for every application of HMAC.\n",
      "1 get_random_string Return a securely generated random string.\n",
      "\n",
      "The default length of 12 with the a-z, A-Z, 0-9 character set returns\n",
      "a 71-bit value. log_2((26+26+10)^12) =~ 71 bits\n",
      "2 constant_time_compare Return True if the two strings are equal, False otherwise.\n",
      "3 pbkdf2 Return the hash of password using pbkdf2.\n"
     ]
    }
   ],
   "source": []
  },
  {
   "cell_type": "code",
   "execution_count": 177,
   "metadata": {},
   "outputs": [],
   "source": [
    "def function_extractor(pyfile: str, function_name: str):\n",
    "    \"\"\"\n",
    "    given a function name, returns the function from pyfile in the form of a string.\n",
    "    Note: This removes the docstring\n",
    "    \n",
    "    :param pyfile: python file to search for function_name in.\n",
    "    :param function_name: the function you are searching for. \n",
    "    :returns: python function as a string.\n",
    "    \"\"\"\n",
    "    \n",
    "    init_def = pyfile.find(f'def {function_name}')\n",
    "    function = pyfile[\n",
    "        init_def : pyfile.find('\\n', pyfile.find('return ', init_def))\n",
    "    ]\n",
    "    \n",
    "    doc_start = function.find('\\\"\\\"\\\"')\n",
    "    doc_end = function.find('\\\"\\\"\\\"', doc_start + 1) + 3\n",
    "    function = function[0: doc_start:] + function[doc_end::]\n",
    "    \n",
    "    return function"
   ]
  },
  {
   "cell_type": "code",
   "execution_count": 169,
   "metadata": {},
   "outputs": [
    {
     "name": "stdout",
     "output_type": "stream",
     "text": [
      "def get_random_string(length=12,\n",
      "                      allowed_chars='abcdefghijklmnopqrstuvwxyz'\n",
      "                                    'ABCDEFGHIJKLMNOPQRSTUVWXYZ0123456789'):\n",
      "    \n",
      "    if not using_sysrandom:\n",
      "        # This is ugly, and a hack, but it makes things better than\n",
      "        # the alternative of predictability. This re-seeds the PRNG\n",
      "        # using a value that is hard for an attacker to predict, every\n",
      "        # time a random string is required. This may change the\n",
      "        # properties of the chosen random sequence slightly, but this\n",
      "        # is better than absolute predictability.\n",
      "        random.seed(\n",
      "            hashlib.sha256(\n",
      "                ('%s%s%s' % (random.getstate(), time.time(), settings.SECRET_KEY)).encode()\n",
      "            ).digest()\n",
      "        )\n",
      "    return ''.join(random.choice(allowed_chars) for i in range(length))\n"
     ]
    }
   ],
   "source": [
    "get_random_string = function_extractor(data, 'get_random_string')\n",
    "print(get_random_string)"
   ]
  },
  {
   "cell_type": "code",
   "execution_count": 194,
   "metadata": {},
   "outputs": [
    {
     "name": "stdout",
     "output_type": "stream",
     "text": [
      "EXAMPLE\n",
      "\n",
      "Input Function:\n",
      "def salted_hmac(key_salt, value, secret=None):\n",
      "    \n",
      "    if secret is None:\n",
      "        secret = settings.SECRET_KEY\n",
      "\n",
      "    key_salt = force_bytes(key_salt)\n",
      "    secret = force_bytes(secret)\n",
      "\n",
      "    # We need to generate a derived key from our base key.  We can do this by\n",
      "    # passing the key_salt and our base key through a pseudo-random function and\n",
      "    # SHA1 works nicely.\n",
      "    key = hashlib.sha1(key_salt + secret).digest()\n",
      "\n",
      "    # If len(key_salt + secret) > sha_constructor().block_size, the above\n",
      "    # line is redundant and could be replaced by key = key_salt + secret, since\n",
      "    # the hmac module does the same thing for keys longer than the block size.\n",
      "    # However, we need to ensure that we *always* do this.\n",
      "    return hmac.new(key, msg=force_bytes(value), digestmod=hashlib.sha1)\n",
      "\n",
      "Target Docstring:\n",
      "Return the HMAC-SHA1 of 'value', using a key generated from key_salt and a\n",
      "secret (which defaults to settings.SECRET_KEY).\n",
      "\n",
      "A different key_salt should be passed in for every application of HMAC.\n"
     ]
    }
   ],
   "source": [
    "function_dataset = []\n",
    "\n",
    "for i, (fname, docstring) in enumerate(zip(function_names, function_docstrings)):\n",
    "    function_def = function_extractor(data, fname)\n",
    "    function_dataset.append([function_def, docstring])\n",
    "    \n",
    "print('EXAMPLE\\n')\n",
    "print(f'Input Function:\\n{function_dataset[0][0]}\\n')\n",
    "print(f'Target Docstring:\\n{function_dataset[0][1]}')"
   ]
  },
  {
   "cell_type": "code",
   "execution_count": null,
   "metadata": {},
   "outputs": [],
   "source": []
  },
  {
   "cell_type": "markdown",
   "metadata": {},
   "source": [
    "handling for classes"
   ]
  },
  {
   "cell_type": "code",
   "execution_count": 98,
   "metadata": {},
   "outputs": [],
   "source": [
    "class_definitions = [node for node in parsed_data.body if isinstance(node, ast.ClassDef)]\n",
    "method_definitions = []\n",
    "\n",
    "for class_def in class_definitions:\n",
    "    method_definitions.append([node for node in class_def if isinstance(node, ast.FunctionDef)])"
   ]
  },
  {
   "cell_type": "code",
   "execution_count": null,
   "metadata": {},
   "outputs": [],
   "source": []
  },
  {
   "cell_type": "code",
   "execution_count": null,
   "metadata": {},
   "outputs": [],
   "source": []
  }
 ],
 "metadata": {
  "kernelspec": {
   "display_name": "Python 3",
   "language": "python",
   "name": "python3"
  },
  "language_info": {
   "codemirror_mode": {
    "name": "ipython",
    "version": 3
   },
   "file_extension": ".py",
   "mimetype": "text/x-python",
   "name": "python",
   "nbconvert_exporter": "python",
   "pygments_lexer": "ipython3",
   "version": "3.7.6"
  }
 },
 "nbformat": 4,
 "nbformat_minor": 4
}

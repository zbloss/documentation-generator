{
 "cells": [
  {
   "cell_type": "code",
   "execution_count": 51,
   "metadata": {},
   "outputs": [],
   "source": [
    "import json\n",
    "import requests\n",
    "import base64"
   ]
  },
  {
   "cell_type": "code",
   "execution_count": 5,
   "metadata": {},
   "outputs": [],
   "source": [
    "response = requests.get('https://api.github.com/')\n",
    "content = response.content.decode()"
   ]
  },
  {
   "cell_type": "code",
   "execution_count": 8,
   "metadata": {},
   "outputs": [
    {
     "data": {
      "text/plain": [
       "{'current_user_url': 'https://api.github.com/user',\n",
       " 'current_user_authorizations_html_url': 'https://github.com/settings/connections/applications{/client_id}',\n",
       " 'authorizations_url': 'https://api.github.com/authorizations',\n",
       " 'code_search_url': 'https://api.github.com/search/code?q={query}{&page,per_page,sort,order}',\n",
       " 'commit_search_url': 'https://api.github.com/search/commits?q={query}{&page,per_page,sort,order}',\n",
       " 'emails_url': 'https://api.github.com/user/emails',\n",
       " 'emojis_url': 'https://api.github.com/emojis',\n",
       " 'events_url': 'https://api.github.com/events',\n",
       " 'feeds_url': 'https://api.github.com/feeds',\n",
       " 'followers_url': 'https://api.github.com/user/followers',\n",
       " 'following_url': 'https://api.github.com/user/following{/target}',\n",
       " 'gists_url': 'https://api.github.com/gists{/gist_id}',\n",
       " 'hub_url': 'https://api.github.com/hub',\n",
       " 'issue_search_url': 'https://api.github.com/search/issues?q={query}{&page,per_page,sort,order}',\n",
       " 'issues_url': 'https://api.github.com/issues',\n",
       " 'keys_url': 'https://api.github.com/user/keys',\n",
       " 'label_search_url': 'https://api.github.com/search/labels?q={query}&repository_id={repository_id}{&page,per_page}',\n",
       " 'notifications_url': 'https://api.github.com/notifications',\n",
       " 'organization_url': 'https://api.github.com/orgs/{org}',\n",
       " 'organization_repositories_url': 'https://api.github.com/orgs/{org}/repos{?type,page,per_page,sort}',\n",
       " 'organization_teams_url': 'https://api.github.com/orgs/{org}/teams',\n",
       " 'public_gists_url': 'https://api.github.com/gists/public',\n",
       " 'rate_limit_url': 'https://api.github.com/rate_limit',\n",
       " 'repository_url': 'https://api.github.com/repos/{owner}/{repo}',\n",
       " 'repository_search_url': 'https://api.github.com/search/repositories?q={query}{&page,per_page,sort,order}',\n",
       " 'current_user_repositories_url': 'https://api.github.com/user/repos{?type,page,per_page,sort}',\n",
       " 'starred_url': 'https://api.github.com/user/starred{/owner}{/repo}',\n",
       " 'starred_gists_url': 'https://api.github.com/gists/starred',\n",
       " 'user_url': 'https://api.github.com/users/{user}',\n",
       " 'user_organizations_url': 'https://api.github.com/user/orgs',\n",
       " 'user_repositories_url': 'https://api.github.com/users/{user}/repos{?type,page,per_page,sort}',\n",
       " 'user_search_url': 'https://api.github.com/search/users?q={query}{&page,per_page,sort,order}'}"
      ]
     },
     "execution_count": 8,
     "metadata": {},
     "output_type": "execute_result"
    }
   ],
   "source": [
    "json.loads(content)"
   ]
  },
  {
   "cell_type": "code",
   "execution_count": null,
   "metadata": {},
   "outputs": [],
   "source": [
    "/repos/:owner/:repo/contents"
   ]
  },
  {
   "cell_type": "code",
   "execution_count": 13,
   "metadata": {},
   "outputs": [
    {
     "data": {
      "text/plain": [
       "{'id': 155220641,\n",
       " 'node_id': 'MDEwOlJlcG9zaXRvcnkxNTUyMjA2NDE=',\n",
       " 'name': 'transformers',\n",
       " 'full_name': 'huggingface/transformers',\n",
       " 'private': False,\n",
       " 'owner': {'login': 'huggingface',\n",
       "  'id': 25720743,\n",
       "  'node_id': 'MDEyOk9yZ2FuaXphdGlvbjI1NzIwNzQz',\n",
       "  'avatar_url': 'https://avatars2.githubusercontent.com/u/25720743?v=4',\n",
       "  'gravatar_id': '',\n",
       "  'url': 'https://api.github.com/users/huggingface',\n",
       "  'html_url': 'https://github.com/huggingface',\n",
       "  'followers_url': 'https://api.github.com/users/huggingface/followers',\n",
       "  'following_url': 'https://api.github.com/users/huggingface/following{/other_user}',\n",
       "  'gists_url': 'https://api.github.com/users/huggingface/gists{/gist_id}',\n",
       "  'starred_url': 'https://api.github.com/users/huggingface/starred{/owner}{/repo}',\n",
       "  'subscriptions_url': 'https://api.github.com/users/huggingface/subscriptions',\n",
       "  'organizations_url': 'https://api.github.com/users/huggingface/orgs',\n",
       "  'repos_url': 'https://api.github.com/users/huggingface/repos',\n",
       "  'events_url': 'https://api.github.com/users/huggingface/events{/privacy}',\n",
       "  'received_events_url': 'https://api.github.com/users/huggingface/received_events',\n",
       "  'type': 'Organization',\n",
       "  'site_admin': False},\n",
       " 'html_url': 'https://github.com/huggingface/transformers',\n",
       " 'description': '🤗 Transformers: State-of-the-art Natural Language Processing for TensorFlow 2.0 and PyTorch.',\n",
       " 'fork': False,\n",
       " 'url': 'https://api.github.com/repos/huggingface/transformers',\n",
       " 'forks_url': 'https://api.github.com/repos/huggingface/transformers/forks',\n",
       " 'keys_url': 'https://api.github.com/repos/huggingface/transformers/keys{/key_id}',\n",
       " 'collaborators_url': 'https://api.github.com/repos/huggingface/transformers/collaborators{/collaborator}',\n",
       " 'teams_url': 'https://api.github.com/repos/huggingface/transformers/teams',\n",
       " 'hooks_url': 'https://api.github.com/repos/huggingface/transformers/hooks',\n",
       " 'issue_events_url': 'https://api.github.com/repos/huggingface/transformers/issues/events{/number}',\n",
       " 'events_url': 'https://api.github.com/repos/huggingface/transformers/events',\n",
       " 'assignees_url': 'https://api.github.com/repos/huggingface/transformers/assignees{/user}',\n",
       " 'branches_url': 'https://api.github.com/repos/huggingface/transformers/branches{/branch}',\n",
       " 'tags_url': 'https://api.github.com/repos/huggingface/transformers/tags',\n",
       " 'blobs_url': 'https://api.github.com/repos/huggingface/transformers/git/blobs{/sha}',\n",
       " 'git_tags_url': 'https://api.github.com/repos/huggingface/transformers/git/tags{/sha}',\n",
       " 'git_refs_url': 'https://api.github.com/repos/huggingface/transformers/git/refs{/sha}',\n",
       " 'trees_url': 'https://api.github.com/repos/huggingface/transformers/git/trees{/sha}',\n",
       " 'statuses_url': 'https://api.github.com/repos/huggingface/transformers/statuses/{sha}',\n",
       " 'languages_url': 'https://api.github.com/repos/huggingface/transformers/languages',\n",
       " 'stargazers_url': 'https://api.github.com/repos/huggingface/transformers/stargazers',\n",
       " 'contributors_url': 'https://api.github.com/repos/huggingface/transformers/contributors',\n",
       " 'subscribers_url': 'https://api.github.com/repos/huggingface/transformers/subscribers',\n",
       " 'subscription_url': 'https://api.github.com/repos/huggingface/transformers/subscription',\n",
       " 'commits_url': 'https://api.github.com/repos/huggingface/transformers/commits{/sha}',\n",
       " 'git_commits_url': 'https://api.github.com/repos/huggingface/transformers/git/commits{/sha}',\n",
       " 'comments_url': 'https://api.github.com/repos/huggingface/transformers/comments{/number}',\n",
       " 'issue_comment_url': 'https://api.github.com/repos/huggingface/transformers/issues/comments{/number}',\n",
       " 'contents_url': 'https://api.github.com/repos/huggingface/transformers/contents/{+path}',\n",
       " 'compare_url': 'https://api.github.com/repos/huggingface/transformers/compare/{base}...{head}',\n",
       " 'merges_url': 'https://api.github.com/repos/huggingface/transformers/merges',\n",
       " 'archive_url': 'https://api.github.com/repos/huggingface/transformers/{archive_format}{/ref}',\n",
       " 'downloads_url': 'https://api.github.com/repos/huggingface/transformers/downloads',\n",
       " 'issues_url': 'https://api.github.com/repos/huggingface/transformers/issues{/number}',\n",
       " 'pulls_url': 'https://api.github.com/repos/huggingface/transformers/pulls{/number}',\n",
       " 'milestones_url': 'https://api.github.com/repos/huggingface/transformers/milestones{/number}',\n",
       " 'notifications_url': 'https://api.github.com/repos/huggingface/transformers/notifications{?since,all,participating}',\n",
       " 'labels_url': 'https://api.github.com/repos/huggingface/transformers/labels{/name}',\n",
       " 'releases_url': 'https://api.github.com/repos/huggingface/transformers/releases{/id}',\n",
       " 'deployments_url': 'https://api.github.com/repos/huggingface/transformers/deployments',\n",
       " 'created_at': '2018-10-29T13:56:00Z',\n",
       " 'updated_at': '2020-04-03T22:51:56Z',\n",
       " 'pushed_at': '2020-04-03T22:10:01Z',\n",
       " 'git_url': 'git://github.com/huggingface/transformers.git',\n",
       " 'ssh_url': 'git@github.com:huggingface/transformers.git',\n",
       " 'clone_url': 'https://github.com/huggingface/transformers.git',\n",
       " 'svn_url': 'https://github.com/huggingface/transformers',\n",
       " 'homepage': 'https://huggingface.co/transformers',\n",
       " 'size': 13897,\n",
       " 'stargazers_count': 24556,\n",
       " 'watchers_count': 24556,\n",
       " 'language': 'Python',\n",
       " 'has_issues': True,\n",
       " 'has_projects': True,\n",
       " 'has_downloads': True,\n",
       " 'has_wiki': True,\n",
       " 'has_pages': False,\n",
       " 'forks_count': 5704,\n",
       " 'mirror_url': None,\n",
       " 'archived': False,\n",
       " 'disabled': False,\n",
       " 'open_issues_count': 425,\n",
       " 'license': {'key': 'apache-2.0',\n",
       "  'name': 'Apache License 2.0',\n",
       "  'spdx_id': 'Apache-2.0',\n",
       "  'url': 'https://api.github.com/licenses/apache-2.0',\n",
       "  'node_id': 'MDc6TGljZW5zZTI='},\n",
       " 'forks': 5704,\n",
       " 'open_issues': 425,\n",
       " 'watchers': 24556,\n",
       " 'default_branch': 'master',\n",
       " 'temp_clone_token': None,\n",
       " 'organization': {'login': 'huggingface',\n",
       "  'id': 25720743,\n",
       "  'node_id': 'MDEyOk9yZ2FuaXphdGlvbjI1NzIwNzQz',\n",
       "  'avatar_url': 'https://avatars2.githubusercontent.com/u/25720743?v=4',\n",
       "  'gravatar_id': '',\n",
       "  'url': 'https://api.github.com/users/huggingface',\n",
       "  'html_url': 'https://github.com/huggingface',\n",
       "  'followers_url': 'https://api.github.com/users/huggingface/followers',\n",
       "  'following_url': 'https://api.github.com/users/huggingface/following{/other_user}',\n",
       "  'gists_url': 'https://api.github.com/users/huggingface/gists{/gist_id}',\n",
       "  'starred_url': 'https://api.github.com/users/huggingface/starred{/owner}{/repo}',\n",
       "  'subscriptions_url': 'https://api.github.com/users/huggingface/subscriptions',\n",
       "  'organizations_url': 'https://api.github.com/users/huggingface/orgs',\n",
       "  'repos_url': 'https://api.github.com/users/huggingface/repos',\n",
       "  'events_url': 'https://api.github.com/users/huggingface/events{/privacy}',\n",
       "  'received_events_url': 'https://api.github.com/users/huggingface/received_events',\n",
       "  'type': 'Organization',\n",
       "  'site_admin': False},\n",
       " 'network_count': 5704,\n",
       " 'subscribers_count': 530}"
      ]
     },
     "execution_count": 13,
     "metadata": {},
     "output_type": "execute_result"
    }
   ],
   "source": [
    "response = requests.get('https://api.github.com/repos/huggingface/transformers')\n",
    "content = json.loads(response.content.decode())\n",
    "content"
   ]
  },
  {
   "cell_type": "code",
   "execution_count": 93,
   "metadata": {},
   "outputs": [
    {
     "name": "stdout",
     "output_type": "stream",
     "text": [
      "Total Files: 8\n"
     ]
    }
   ],
   "source": [
    "response = requests.get('https://api.github.com/repos/zbloss/TransformerModel/contents')\n",
    "contents = json.loads(response.content.decode())\n",
    "print(f'Total Files: {len(contents)}')\n"
   ]
  },
  {
   "cell_type": "code",
   "execution_count": 95,
   "metadata": {},
   "outputs": [
    {
     "data": {
      "text/plain": [
       "'7cdaeb30761b7928fd9f35dd5e57958e214499ff'"
      ]
     },
     "execution_count": 95,
     "metadata": {},
     "output_type": "execute_result"
    }
   ],
   "source": [
    "contents[0]['sha']"
   ]
  },
  {
   "cell_type": "code",
   "execution_count": 74,
   "metadata": {},
   "outputs": [
    {
     "data": {
      "text/plain": [
       "'file'"
      ]
     },
     "execution_count": 74,
     "metadata": {},
     "output_type": "execute_result"
    }
   ],
   "source": [
    "contents[0]['type']"
   ]
  },
  {
   "cell_type": "code",
   "execution_count": 100,
   "metadata": {},
   "outputs": [
    {
     "data": {
      "text/plain": [
       "'Not Found'"
      ]
     },
     "execution_count": 100,
     "metadata": {},
     "output_type": "execute_result"
    }
   ],
   "source": [
    "response = requests.get('https://github.com/repos/zbloss/TransformerModel/')\n",
    "contents = response.content.decode()\n",
    "contents"
   ]
  },
  {
   "cell_type": "markdown",
   "metadata": {},
   "source": [
    "## Finding all Directories in a Project"
   ]
  },
  {
   "cell_type": "code",
   "execution_count": 77,
   "metadata": {},
   "outputs": [
    {
     "name": "stdout",
     "output_type": "stream",
     "text": [
      "{'name': '.gitignore', 'path': '.gitignore', 'sha': '7cdaeb30761b7928fd9f35dd5e57958e214499ff', 'size': 292, 'url': 'https://api.github.com/repos/zbloss/TransformerModel/contents/.gitignore?ref=master', 'html_url': 'https://github.com/zbloss/TransformerModel/blob/master/.gitignore', 'git_url': 'https://api.github.com/repos/zbloss/TransformerModel/git/blobs/7cdaeb30761b7928fd9f35dd5e57958e214499ff', 'download_url': 'https://raw.githubusercontent.com/zbloss/TransformerModel/master/.gitignore', 'type': 'file', '_links': {'self': 'https://api.github.com/repos/zbloss/TransformerModel/contents/.gitignore?ref=master', 'git': 'https://api.github.com/repos/zbloss/TransformerModel/git/blobs/7cdaeb30761b7928fd9f35dd5e57958e214499ff', 'html': 'https://github.com/zbloss/TransformerModel/blob/master/.gitignore'}}\n"
     ]
    }
   ],
   "source": [
    "for ent in contents:\n",
    "    print(ent)\n",
    "    break"
   ]
  },
  {
   "cell_type": "code",
   "execution_count": 84,
   "metadata": {},
   "outputs": [
    {
     "ename": "KeyboardInterrupt",
     "evalue": "",
     "output_type": "error",
     "traceback": [
      "\u001b[0;31m---------------------------------------------------------------------------\u001b[0m",
      "\u001b[0;31mKeyboardInterrupt\u001b[0m                         Traceback (most recent call last)",
      "\u001b[0;32m<ipython-input-84-197ecf0b32e6>\u001b[0m in \u001b[0;36m<module>\u001b[0;34m\u001b[0m\n\u001b[1;32m     11\u001b[0m     \u001b[0;32mif\u001b[0m \u001b[0md\u001b[0m\u001b[0;34m[\u001b[0m\u001b[0;34m'type'\u001b[0m\u001b[0;34m]\u001b[0m \u001b[0;34m==\u001b[0m \u001b[0;34m'file'\u001b[0m\u001b[0;34m:\u001b[0m\u001b[0;34m\u001b[0m\u001b[0;34m\u001b[0m\u001b[0m\n\u001b[1;32m     12\u001b[0m         \u001b[0mfiles\u001b[0m\u001b[0;34m.\u001b[0m\u001b[0mappend\u001b[0m\u001b[0;34m(\u001b[0m\u001b[0md\u001b[0m\u001b[0;34m)\u001b[0m\u001b[0;34m\u001b[0m\u001b[0;34m\u001b[0m\u001b[0m\n\u001b[0;32m---> 13\u001b[0;31m     \u001b[0;32melif\u001b[0m \u001b[0md\u001b[0m\u001b[0;34m[\u001b[0m\u001b[0;34m'type'\u001b[0m\u001b[0;34m]\u001b[0m \u001b[0;34m==\u001b[0m \u001b[0;34m'dir'\u001b[0m\u001b[0;34m:\u001b[0m\u001b[0;34m\u001b[0m\u001b[0;34m\u001b[0m\u001b[0m\n\u001b[0m\u001b[1;32m     14\u001b[0m         \u001b[0mdirs\u001b[0m\u001b[0;34m.\u001b[0m\u001b[0mappend\u001b[0m\u001b[0;34m(\u001b[0m\u001b[0md\u001b[0m\u001b[0;34m)\u001b[0m\u001b[0;34m\u001b[0m\u001b[0;34m\u001b[0m\u001b[0m\n",
      "\u001b[0;31mKeyboardInterrupt\u001b[0m: "
     ]
    }
   ],
   "source": [
    "files = []\n",
    "dirs = []\n",
    "\n",
    "for ent in contents:\n",
    "    if ent['type'] == 'file':\n",
    "        files.append(ent)\n",
    "    elif ent['type'] == 'dir':\n",
    "        dirs.append(ent)\n",
    "        \n",
    "for d in dirs:\n",
    "    if d['type'] == 'file':\n",
    "        files.append(d)\n",
    "    elif d['type'] == 'dir':\n",
    "        dirs.append(d)"
   ]
  },
  {
   "cell_type": "code",
   "execution_count": 89,
   "metadata": {},
   "outputs": [
    {
     "data": {
      "text/plain": [
       "[{'name': '.gitignore',\n",
       "  'path': '.gitignore',\n",
       "  'sha': '7cdaeb30761b7928fd9f35dd5e57958e214499ff',\n",
       "  'size': 292,\n",
       "  'url': 'https://api.github.com/repos/zbloss/TransformerModel/contents/.gitignore?ref=master',\n",
       "  'html_url': 'https://github.com/zbloss/TransformerModel/blob/master/.gitignore',\n",
       "  'git_url': 'https://api.github.com/repos/zbloss/TransformerModel/git/blobs/7cdaeb30761b7928fd9f35dd5e57958e214499ff',\n",
       "  'download_url': 'https://raw.githubusercontent.com/zbloss/TransformerModel/master/.gitignore',\n",
       "  'type': 'file',\n",
       "  '_links': {'self': 'https://api.github.com/repos/zbloss/TransformerModel/contents/.gitignore?ref=master',\n",
       "   'git': 'https://api.github.com/repos/zbloss/TransformerModel/git/blobs/7cdaeb30761b7928fd9f35dd5e57958e214499ff',\n",
       "   'html': 'https://github.com/zbloss/TransformerModel/blob/master/.gitignore'}},\n",
       " {'name': 'LICENSE.txt',\n",
       "  'path': 'LICENSE.txt',\n",
       "  'sha': '63b4b681cb65bcf92db3d26bc3664a1298cbeea8',\n",
       "  'size': 1068,\n",
       "  'url': 'https://api.github.com/repos/zbloss/TransformerModel/contents/LICENSE.txt?ref=master',\n",
       "  'html_url': 'https://github.com/zbloss/TransformerModel/blob/master/LICENSE.txt',\n",
       "  'git_url': 'https://api.github.com/repos/zbloss/TransformerModel/git/blobs/63b4b681cb65bcf92db3d26bc3664a1298cbeea8',\n",
       "  'download_url': 'https://raw.githubusercontent.com/zbloss/TransformerModel/master/LICENSE.txt',\n",
       "  'type': 'file',\n",
       "  '_links': {'self': 'https://api.github.com/repos/zbloss/TransformerModel/contents/LICENSE.txt?ref=master',\n",
       "   'git': 'https://api.github.com/repos/zbloss/TransformerModel/git/blobs/63b4b681cb65bcf92db3d26bc3664a1298cbeea8',\n",
       "   'html': 'https://github.com/zbloss/TransformerModel/blob/master/LICENSE.txt'}},\n",
       " {'name': 'README.md',\n",
       "  'path': 'README.md',\n",
       "  'sha': '246933adc7499a55667c051d178a0afe2b64af3c',\n",
       "  'size': 2557,\n",
       "  'url': 'https://api.github.com/repos/zbloss/TransformerModel/contents/README.md?ref=master',\n",
       "  'html_url': 'https://github.com/zbloss/TransformerModel/blob/master/README.md',\n",
       "  'git_url': 'https://api.github.com/repos/zbloss/TransformerModel/git/blobs/246933adc7499a55667c051d178a0afe2b64af3c',\n",
       "  'download_url': 'https://raw.githubusercontent.com/zbloss/TransformerModel/master/README.md',\n",
       "  'type': 'file',\n",
       "  '_links': {'self': 'https://api.github.com/repos/zbloss/TransformerModel/contents/README.md?ref=master',\n",
       "   'git': 'https://api.github.com/repos/zbloss/TransformerModel/git/blobs/246933adc7499a55667c051d178a0afe2b64af3c',\n",
       "   'html': 'https://github.com/zbloss/TransformerModel/blob/master/README.md'}},\n",
       " {'name': 'example.py',\n",
       "  'path': 'example.py',\n",
       "  'sha': '9326ee1899d763a544a926b684bd840ce8386d48',\n",
       "  'size': 1585,\n",
       "  'url': 'https://api.github.com/repos/zbloss/TransformerModel/contents/example.py?ref=master',\n",
       "  'html_url': 'https://github.com/zbloss/TransformerModel/blob/master/example.py',\n",
       "  'git_url': 'https://api.github.com/repos/zbloss/TransformerModel/git/blobs/9326ee1899d763a544a926b684bd840ce8386d48',\n",
       "  'download_url': 'https://raw.githubusercontent.com/zbloss/TransformerModel/master/example.py',\n",
       "  'type': 'file',\n",
       "  '_links': {'self': 'https://api.github.com/repos/zbloss/TransformerModel/contents/example.py?ref=master',\n",
       "   'git': 'https://api.github.com/repos/zbloss/TransformerModel/git/blobs/9326ee1899d763a544a926b684bd840ce8386d48',\n",
       "   'html': 'https://github.com/zbloss/TransformerModel/blob/master/example.py'}},\n",
       " {'name': 'setup.cfg',\n",
       "  'path': 'setup.cfg',\n",
       "  'sha': '224a77957f5db48dfa25c8bb4a35f535202da203',\n",
       "  'size': 39,\n",
       "  'url': 'https://api.github.com/repos/zbloss/TransformerModel/contents/setup.cfg?ref=master',\n",
       "  'html_url': 'https://github.com/zbloss/TransformerModel/blob/master/setup.cfg',\n",
       "  'git_url': 'https://api.github.com/repos/zbloss/TransformerModel/git/blobs/224a77957f5db48dfa25c8bb4a35f535202da203',\n",
       "  'download_url': 'https://raw.githubusercontent.com/zbloss/TransformerModel/master/setup.cfg',\n",
       "  'type': 'file',\n",
       "  '_links': {'self': 'https://api.github.com/repos/zbloss/TransformerModel/contents/setup.cfg?ref=master',\n",
       "   'git': 'https://api.github.com/repos/zbloss/TransformerModel/git/blobs/224a77957f5db48dfa25c8bb4a35f535202da203',\n",
       "   'html': 'https://github.com/zbloss/TransformerModel/blob/master/setup.cfg'}},\n",
       " {'name': 'setup.py',\n",
       "  'path': 'setup.py',\n",
       "  'sha': 'aea970aba6c160d0c470a7999ba65c9eb2c8a442',\n",
       "  'size': 970,\n",
       "  'url': 'https://api.github.com/repos/zbloss/TransformerModel/contents/setup.py?ref=master',\n",
       "  'html_url': 'https://github.com/zbloss/TransformerModel/blob/master/setup.py',\n",
       "  'git_url': 'https://api.github.com/repos/zbloss/TransformerModel/git/blobs/aea970aba6c160d0c470a7999ba65c9eb2c8a442',\n",
       "  'download_url': 'https://raw.githubusercontent.com/zbloss/TransformerModel/master/setup.py',\n",
       "  'type': 'file',\n",
       "  '_links': {'self': 'https://api.github.com/repos/zbloss/TransformerModel/contents/setup.py?ref=master',\n",
       "   'git': 'https://api.github.com/repos/zbloss/TransformerModel/git/blobs/aea970aba6c160d0c470a7999ba65c9eb2c8a442',\n",
       "   'html': 'https://github.com/zbloss/TransformerModel/blob/master/setup.py'}}]"
      ]
     },
     "execution_count": 89,
     "metadata": {},
     "output_type": "execute_result"
    }
   ],
   "source": []
  },
  {
   "cell_type": "code",
   "execution_count": null,
   "metadata": {},
   "outputs": [],
   "source": []
  },
  {
   "cell_type": "code",
   "execution_count": null,
   "metadata": {},
   "outputs": [],
   "source": []
  },
  {
   "cell_type": "code",
   "execution_count": 42,
   "metadata": {
    "scrolled": true
   },
   "outputs": [],
   "source": [
    "example = requests.get(py_files[0]['html_url'])\n",
    "example = example.content.decode()"
   ]
  },
  {
   "cell_type": "code",
   "execution_count": 48,
   "metadata": {},
   "outputs": [
    {
     "data": {
      "text/plain": [
       "'example.py'"
      ]
     },
     "execution_count": 48,
     "metadata": {},
     "output_type": "execute_result"
    }
   ],
   "source": [
    "files[3]['name']"
   ]
  },
  {
   "cell_type": "code",
   "execution_count": 53,
   "metadata": {},
   "outputs": [],
   "source": [
    "response = requests.get('https://api.github.com/repos/zbloss/TransformerModel/contents/example.py')\n",
    "response = json.loads(response.content.decode())\n",
    "content = response['content']"
   ]
  },
  {
   "cell_type": "code",
   "execution_count": 58,
   "metadata": {},
   "outputs": [
    {
     "data": {
      "text/plain": [
       "str"
      ]
     },
     "execution_count": 58,
     "metadata": {},
     "output_type": "execute_result"
    }
   ],
   "source": [
    "type(content)"
   ]
  },
  {
   "cell_type": "code",
   "execution_count": 62,
   "metadata": {},
   "outputs": [
    {
     "data": {
      "text/plain": [
       "\"import tensorflow as tf\\nfrom datetime import datetime\\nfrom transformer_model.training import Trainer\\nfrom transformer_model.transformer import Transformer\\nfrom transformer_model.data_process import DataProcessor\\nfrom transformer_model.custom_scheduler import CustomSchedule\\n\\n\\n# Data Processing\\nprint('\\\\n\\\\nLoading data...')\\ndata_processor = DataProcessor()\\ndf = data_processor.load_data()\\ntrain, test = data_processor.train_test_split(df)\\nprint('Generating Tokenizers...')\\ntokenizer_feat, tokenizer_tar = data_processor.tokenizer(train)\\ntrain_dataset, test_dataset = data_processor.preprocess(train, test)\\n\\n# HPARAMS\\nEPOCHS = 100\\nnum_layers = 6\\nd_model = 128\\ndff = 512\\nnum_heads = 8\\ninput_vocab_size = tokenizer_feat.vocab_size + 2\\ntarget_vocab_size = tokenizer_tar.vocab_size + 2\\ndropout_rate = 0.1\\n\\n# Custom Scheduler\\nlearning_rate = CustomSchedule(d_model)\\noptimizer = tf.keras.optimizers.Adam(learning_rate, beta_1=0.9, beta_2=0.98, epsilon=1e-9)\\n\\n# Transformer\\ntransformer = Transformer(d_model=d_model, num_heads=num_heads, num_layers=num_layers,\\n                          target_vocab_size=target_vocab_size, input_vocab_size=input_vocab_size,\\n                          dff=dff, rate=dropout_rate)\\n\\n# Trainer\\nprint(f'\\\\n\\\\nBeginning training for {EPOCHS} epochs @ {datetime.now()}...\\\\n')\\ntrainer = Trainer(train_dataset=train_dataset,\\n                  test_dataset=test_dataset,\\n                  learning_rate=learning_rate,\\n                  optimizer=optimizer,\\n                  transformer=transformer,\\n                  epochs=EPOCHS)\\n\\nloss_hist, acc_hist = trainer.train()\\n\""
      ]
     },
     "execution_count": 62,
     "metadata": {},
     "output_type": "execute_result"
    }
   ],
   "source": [
    "code = base64.b64decode(content).decode()\n",
    "code"
   ]
  },
  {
   "cell_type": "code",
   "execution_count": 65,
   "metadata": {},
   "outputs": [
    {
     "name": "stdout",
     "output_type": "stream",
     "text": [
      "import tensorflow as tf \n",
      " from datetime import datetime \n",
      " from transformer_model.training import Trainer \n",
      " from transformer_model.transformer import Transformer \n",
      " from transformer_model.data_process import DataProcessor \n",
      " from transformer_model.custom_scheduler import CustomSchedule \n",
      "  \n",
      "  \n",
      " # Data Processing \n",
      " print('\\n\\nLoading data...') \n",
      " data_processor = DataProcessor() \n",
      " df = data_processor.load_data() \n",
      " train, test = data_processor.train_test_split(df) \n",
      " print('Generating Tokenizers...') \n",
      " tokenizer_feat, tokenizer_tar = data_processor.tokenizer(train) \n",
      " train_dataset, test_dataset = data_processor.preprocess(train, test) \n",
      "  \n",
      " # HPARAMS \n",
      " EPOCHS = 100 \n",
      " num_layers = 6 \n",
      " d_model = 128 \n",
      " dff = 512 \n",
      " num_heads = 8 \n",
      " input_vocab_size = tokenizer_feat.vocab_size + 2 \n",
      " target_vocab_size = tokenizer_tar.vocab_size + 2 \n",
      " dropout_rate = 0.1 \n",
      "  \n",
      " # Custom Scheduler \n",
      " learning_rate = CustomSchedule(d_model) \n",
      " optimizer = tf.keras.optimizers.Adam(learning_rate, beta_1=0.9, beta_2=0.98, epsilon=1e-9) \n",
      "  \n",
      " # Transformer \n",
      " transformer = Transformer(d_model=d_model, num_heads=num_heads, num_layers=num_layers, \n",
      "                           target_vocab_size=target_vocab_size, input_vocab_size=input_vocab_size, \n",
      "                           dff=dff, rate=dropout_rate) \n",
      "  \n",
      " # Trainer \n",
      " print(f'\\n\\nBeginning training for {EPOCHS} epochs @ {datetime.now()}...\\n') \n",
      " trainer = Trainer(train_dataset=train_dataset, \n",
      "                   test_dataset=test_dataset, \n",
      "                   learning_rate=learning_rate, \n",
      "                   optimizer=optimizer, \n",
      "                   transformer=transformer, \n",
      "                   epochs=EPOCHS) \n",
      "  \n",
      " loss_hist, acc_hist = trainer.train() \n",
      " \n"
     ]
    }
   ],
   "source": [
    "print(code.replace('\\n', ' \\n '))"
   ]
  },
  {
   "cell_type": "code",
   "execution_count": null,
   "metadata": {},
   "outputs": [],
   "source": []
  }
 ],
 "metadata": {
  "kernelspec": {
   "display_name": "Python 3",
   "language": "python",
   "name": "python3"
  },
  "language_info": {
   "codemirror_mode": {
    "name": "ipython",
    "version": 3
   },
   "file_extension": ".py",
   "mimetype": "text/x-python",
   "name": "python",
   "nbconvert_exporter": "python",
   "pygments_lexer": "ipython3",
   "version": "3.7.7"
  }
 },
 "nbformat": 4,
 "nbformat_minor": 4
}
